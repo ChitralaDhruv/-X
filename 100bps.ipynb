{
  "nbformat": 4,
  "nbformat_minor": 0,
  "metadata": {
    "colab": {
      "provenance": [],
      "authorship_tag": "ABX9TyP1knIsB7CTo9bwrQJKACx1",
      "include_colab_link": true
    },
    "kernelspec": {
      "name": "python3",
      "display_name": "Python 3"
    },
    "language_info": {
      "name": "python"
    }
  },
  "cells": [
    {
      "cell_type": "markdown",
      "metadata": {
        "id": "view-in-github",
        "colab_type": "text"
      },
      "source": [
        "<a href=\"https://colab.research.google.com/github/ChitralaDhruv/-X/blob/main/100bps.ipynb\" target=\"_parent\"><img src=\"https://colab.research.google.com/assets/colab-badge.svg\" alt=\"Open In Colab\"/></a>"
      ]
    },
    {
      "cell_type": "code",
      "execution_count": 5,
      "metadata": {
        "colab": {
          "base_uri": "https://localhost:8080/"
        },
        "id": "mbiyiCaL9HFY",
        "outputId": "beefb53d-ec1d-45c8-955e-b0727880abf1"
      },
      "outputs": [
        {
          "output_type": "stream",
          "name": "stdout",
          "text": [
            "Buy Order: Bought at 23 on 2023-10-19 18:30:00 2023-10-19 18:30:00, Take-Profit set at 23.23\n",
            "Buy Order: Bought at 23 on 2023-10-19 18:30:00, Take-Profit set at 23.23\n",
            "\n",
            "Backtest Summary:\n",
            "Total Profit: 0\n",
            "Unrealized Loss: -20.549999999999997\n",
            "Number of Lots Held: 2\n",
            "Trade log saved to trade_log.csv\n"
          ]
        }
      ],
      "source": [
        "import pandas as pd\n",
        "import csv\n",
        "\n",
        "# Load your data from an Excel file (adjust the file name as needed)\n",
        "file_path = '/content/silver_mcx_30min.xlsx'  # Replace with your file path\n",
        "data = pd.read_excel(file_path)\n",
        "\n",
        "# Drop rows with missing values in the required columns (if any)\n",
        "data.dropna(subset=['Local Date', 'Local Time', 'Close'], inplace=True)\n",
        "\n",
        "# Sort data by 'Local Date' and 'Local Time' (optional if the data isn't sorted)\n",
        "data.sort_values(by=['Local Date', 'Local Time'], inplace=True)\n",
        "\n",
        "# Strategy parameters\n",
        "initial_price = 23  # Starting price\n",
        "price_step = 0.01      # 1% steps for buy orders\n",
        "lots = 0\n",
        "positions = []         # Track all open positions and their take-profits\n",
        "profits = 0            # Track total profits from successful take-profits\n",
        "\n",
        "# List to store trade data for CSV output\n",
        "trade_log = []\n",
        "\n",
        "# Function to place a buy and corresponding take-profit order\n",
        "def place_order(entry_price, timestamp):\n",
        "    global lots\n",
        "    take_profit_price = entry_price * (1 + price_step)  # 1% above entry price\n",
        "    positions.append({'entry_price': entry_price, 'take_profit': take_profit_price, 'timestamp': timestamp})\n",
        "    lots += 1\n",
        "    print(f\"Buy Order: Bought at {entry_price} on {timestamp}, Take-Profit set at {take_profit_price}\")\n",
        "\n",
        "# Initialize with the first buy\n",
        "initial_timestamp = f\"{data.iloc[0]['Local Date']} {data.iloc[0]['Local Time']}\"\n",
        "place_order(initial_price, initial_timestamp)\n",
        "\n",
        "# Loop through the historical data\n",
        "for index, row in data.iterrows():\n",
        "  if index == 0 :\n",
        "    place_order(initial_price,f\"{row['Local Date']}\")\n",
        "    current_price = row['Close']  # Use the 'Close' price for each 30-min candle\n",
        "    timestamp = f\"{row['Local Date']}\"\n",
        "\n",
        "    # Check if any take-profit orders are hit\n",
        "    for pos in positions.copy():\n",
        "        if current_price >= pos['take_profit']:\n",
        "            # Take profit hit, record profit and remove position\n",
        "            profit = pos['take_profit'] - pos['entry_price']\n",
        "            profits += profit\n",
        "            positions.remove(pos)\n",
        "            print(f\"Take-Profit Hit: Sold at {pos['take_profit']} on {timestamp}, Profit: {profit}\")\n",
        "            # Log the trade in the trade_log list for CSV export\n",
        "            trade_log.append({\n",
        "                'Entry Price': pos['entry_price'],\n",
        "                'Entry Date Time': pos['timestamp'],\n",
        "                'Exit Price': pos['take_profit'],\n",
        "                'Exit Date Time': timestamp,\n",
        "                'Profit': profit\n",
        "            })\n",
        "            # Re-enter the market by placing another buy at the same price\n",
        "            #place_order(pos['entry_price'], timestamp)\n",
        "\n",
        "    # Check if price has dropped 1% below the last entry price and place a new buy order\n",
        "    last_position = positions[-1]  # Last buy price\n",
        "    if current_price <= last_position['entry_price'] * (1 - price_step):\n",
        "        new_entry_price = last_position['entry_price'] * (1 - price_step)\n",
        "        place_order(new_entry_price, timestamp)\n",
        "\n",
        "# At the end of the backtest, calculate unrealized loss for remaining positions\n",
        "unrealized_loss = 0\n",
        "current_price = data.iloc[-1]['Close']  # Final close price\n",
        "for pos in positions:\n",
        "    unrealized_loss += (pos['entry_price'] - current_price)\n",
        "\n",
        "# Save the trade log to a CSV file\n",
        "output_file = 'trade_log.csv'\n",
        "trade_log_df = pd.DataFrame(trade_log)\n",
        "trade_log_df.to_csv(output_file, index=False)\n",
        "\n",
        "# Output final results\n",
        "print(f\"\\nBacktest Summary:\")\n",
        "print(f\"Total Profit: {profits}\")\n",
        "print(f\"Unrealized Loss: {unrealized_loss}\")\n",
        "print(f\"Number of Lots Held: {lots}\")\n",
        "print(f\"Trade log saved to {output_file}\")\n"
      ]
    }
  ]
}